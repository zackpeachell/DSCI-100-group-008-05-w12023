{
 "cells": [
  {
   "cell_type": "markdown",
   "id": "790351d5-d8bd-4892-a520-99a0a7c26497",
   "metadata": {},
   "source": [
    "Test code, yeah this directory shit does not work, maybe i need a new access token\n"
   ]
  },
  {
   "cell_type": "code",
   "execution_count": 6,
   "id": "cdf623b3-4623-40bb-a74e-966d1006727c",
   "metadata": {},
   "outputs": [],
   "source": [
    "\n",
    "url <- \"https://archive.ics.uci.edu/dataset/372/htru2\"\n",
    "\n"
   ]
  },
  {
   "cell_type": "code",
   "execution_count": null,
   "id": "a35ad549-92a8-4851-96fe-fc5158c360f6",
   "metadata": {},
   "outputs": [],
   "source": []
  }
 ],
 "metadata": {
  "kernelspec": {
   "display_name": "R",
   "language": "R",
   "name": "ir"
  },
  "language_info": {
   "codemirror_mode": "r",
   "file_extension": ".r",
   "mimetype": "text/x-r-source",
   "name": "R",
   "pygments_lexer": "r",
   "version": "4.3.1"
  }
 },
 "nbformat": 4,
 "nbformat_minor": 5
}
