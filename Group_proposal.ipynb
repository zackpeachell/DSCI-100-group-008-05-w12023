{
 "cells": [
  {
   "cell_type": "markdown",
   "id": "cac1ad93-3069-4458-b564-24fe43aab184",
   "metadata": {},
   "source": [
    "# Data Science 100 Group 008-05 Project Proposal"
   ]
  },
  {
   "cell_type": "markdown",
   "id": "dd9053c8-454b-46f6-bb55-282791580a9b",
   "metadata": {},
   "source": [
    "#### Zack Peachell, Jasper Palov, Arjun Saxena, Bhavya Dubey"
   ]
  },
  {
   "cell_type": "markdown",
   "id": "14eab56c-ffc0-4abd-b7a2-0c5c06e37adf",
   "metadata": {},
   "source": [
    "\\\n",
    "\\\n",
    "\n",
    "## Introduction to our project: Will need to choose a dataset first"
   ]
  },
  {
   "cell_type": "code",
   "execution_count": null,
   "id": "4c7d5a49-79c3-4ec2-ab41-d8c95148cbcb",
   "metadata": {},
   "outputs": [],
   "source": []
  },
  {
   "cell_type": "code",
   "execution_count": null,
   "id": "ca2c31e5-6bc3-461b-ad76-dae2f4c3a3d1",
   "metadata": {},
   "outputs": [],
   "source": []
  },
  {
   "cell_type": "code",
   "execution_count": null,
   "id": "834e1538-ae22-47a0-98f5-97554c2966b6",
   "metadata": {},
   "outputs": [],
   "source": []
  },
  {
   "cell_type": "markdown",
   "id": "9bd78db2-5076-46f6-b4b0-e7023dcb6a36",
   "metadata": {},
   "source": [
    "## Preliminary exploratory data analysis:\n",
    "\\\n",
    "from the dataset we have chosen!"
   ]
  },
  {
   "cell_type": "code",
   "execution_count": 7,
   "id": "b284c937-011e-4232-a5b5-5c0133696945",
   "metadata": {},
   "outputs": [
    {
     "name": "stderr",
     "output_type": "stream",
     "text": [
      "── \u001b[1mAttaching core tidyverse packages\u001b[22m ──────────────────────── tidyverse 2.0.0 ──\n",
      "\u001b[32m✔\u001b[39m \u001b[34mdplyr    \u001b[39m 1.1.3     \u001b[32m✔\u001b[39m \u001b[34mreadr    \u001b[39m 2.1.4\n",
      "\u001b[32m✔\u001b[39m \u001b[34mforcats  \u001b[39m 1.0.0     \u001b[32m✔\u001b[39m \u001b[34mstringr  \u001b[39m 1.5.0\n",
      "\u001b[32m✔\u001b[39m \u001b[34mggplot2  \u001b[39m 3.4.3     \u001b[32m✔\u001b[39m \u001b[34mtibble   \u001b[39m 3.2.1\n",
      "\u001b[32m✔\u001b[39m \u001b[34mlubridate\u001b[39m 1.9.2     \u001b[32m✔\u001b[39m \u001b[34mtidyr    \u001b[39m 1.3.0\n",
      "\u001b[32m✔\u001b[39m \u001b[34mpurrr    \u001b[39m 1.0.2     \n",
      "── \u001b[1mConflicts\u001b[22m ────────────────────────────────────────── tidyverse_conflicts() ──\n",
      "\u001b[31m✖\u001b[39m \u001b[34mdplyr\u001b[39m::\u001b[32mfilter()\u001b[39m masks \u001b[34mstats\u001b[39m::filter()\n",
      "\u001b[31m✖\u001b[39m \u001b[34mdplyr\u001b[39m::\u001b[32mlag()\u001b[39m    masks \u001b[34mstats\u001b[39m::lag()\n",
      "\u001b[36mℹ\u001b[39m Use the conflicted package (\u001b[3m\u001b[34m<http://conflicted.r-lib.org/>\u001b[39m\u001b[23m) to force all conflicts to become errors\n",
      "── \u001b[1mAttaching packages\u001b[22m ────────────────────────────────────── tidymodels 1.1.1 ──\n",
      "\n",
      "\u001b[32m✔\u001b[39m \u001b[34mbroom       \u001b[39m 1.0.5     \u001b[32m✔\u001b[39m \u001b[34mrsample     \u001b[39m 1.2.0\n",
      "\u001b[32m✔\u001b[39m \u001b[34mdials       \u001b[39m 1.2.0     \u001b[32m✔\u001b[39m \u001b[34mtune        \u001b[39m 1.1.2\n",
      "\u001b[32m✔\u001b[39m \u001b[34minfer       \u001b[39m 1.0.4     \u001b[32m✔\u001b[39m \u001b[34mworkflows   \u001b[39m 1.1.3\n",
      "\u001b[32m✔\u001b[39m \u001b[34mmodeldata   \u001b[39m 1.2.0     \u001b[32m✔\u001b[39m \u001b[34mworkflowsets\u001b[39m 1.0.1\n",
      "\u001b[32m✔\u001b[39m \u001b[34mparsnip     \u001b[39m 1.1.1     \u001b[32m✔\u001b[39m \u001b[34myardstick   \u001b[39m 1.2.0\n",
      "\u001b[32m✔\u001b[39m \u001b[34mrecipes     \u001b[39m 1.0.8     \n",
      "\n",
      "── \u001b[1mConflicts\u001b[22m ───────────────────────────────────────── tidymodels_conflicts() ──\n",
      "\u001b[31m✖\u001b[39m \u001b[34mscales\u001b[39m::\u001b[32mdiscard()\u001b[39m masks \u001b[34mpurrr\u001b[39m::discard()\n",
      "\u001b[31m✖\u001b[39m \u001b[34mdplyr\u001b[39m::\u001b[32mfilter()\u001b[39m   masks \u001b[34mstats\u001b[39m::filter()\n",
      "\u001b[31m✖\u001b[39m \u001b[34mrecipes\u001b[39m::\u001b[32mfixed()\u001b[39m  masks \u001b[34mstringr\u001b[39m::fixed()\n",
      "\u001b[31m✖\u001b[39m \u001b[34mdplyr\u001b[39m::\u001b[32mlag()\u001b[39m      masks \u001b[34mstats\u001b[39m::lag()\n",
      "\u001b[31m✖\u001b[39m \u001b[34myardstick\u001b[39m::\u001b[32mspec()\u001b[39m masks \u001b[34mreadr\u001b[39m::spec()\n",
      "\u001b[31m✖\u001b[39m \u001b[34mrecipes\u001b[39m::\u001b[32mstep()\u001b[39m   masks \u001b[34mstats\u001b[39m::step()\n",
      "\u001b[34m•\u001b[39m Learn how to get started at \u001b[32mhttps://www.tidymodels.org/start/\u001b[39m\n",
      "\n",
      "Warning message in file(filename, \"r\", encoding = encoding):\n",
      "“cannot open file 'tests.R': No such file or directory”\n"
     ]
    },
    {
     "ename": "ERROR",
     "evalue": "Error in file(filename, \"r\", encoding = encoding): cannot open the connection\n",
     "output_type": "error",
     "traceback": [
      "Error in file(filename, \"r\", encoding = encoding): cannot open the connection\nTraceback:\n",
      "1. source(\"tests.R\")",
      "2. file(filename, \"r\", encoding = encoding)"
     ]
    }
   ],
   "source": [
    "# Run this cell to continue.\n",
    "library(tidyverse)\n",
    "library(repr)\n",
    "library(tidymodels)\n",
    "options(repr.matrix.max.rows = 6)\n",
    "source('tests.R')\n",
    "source('cleanup.R')"
   ]
  },
  {
   "cell_type": "code",
   "execution_count": 14,
   "id": "4c49cbbf-a8b1-4502-af84-aa926521b1d4",
   "metadata": {},
   "outputs": [
    {
     "name": "stderr",
     "output_type": "stream",
     "text": [
      "\u001b[1mRows: \u001b[22m\u001b[34m671\u001b[39m \u001b[1mColumns: \u001b[22m\u001b[34m4\u001b[39m\n",
      "\u001b[36m──\u001b[39m \u001b[1mColumn specification\u001b[22m \u001b[36m────────────────────────────────────────────────────────\u001b[39m\n",
      "\u001b[1mDelimiter:\u001b[22m \",\"\n",
      "\u001b[31mchr\u001b[39m (4): Date, 24 hr New Snow, Season Snowfall Total, Base Depth\n",
      "\n",
      "\u001b[36mℹ\u001b[39m Use `spec()` to retrieve the full column specification for this data.\n",
      "\u001b[36mℹ\u001b[39m Specify the column types or set `show_col_types = FALSE` to quiet this message.\n"
     ]
    },
    {
     "data": {
      "text/html": [
       "<table class=\"dataframe\">\n",
       "<caption>A spec_tbl_df: 671 × 4</caption>\n",
       "<thead>\n",
       "\t<tr><th scope=col>Date</th><th scope=col>24 hr New Snow</th><th scope=col>Season Snowfall Total</th><th scope=col>Base Depth</th></tr>\n",
       "\t<tr><th scope=col>&lt;chr&gt;</th><th scope=col>&lt;chr&gt;</th><th scope=col>&lt;chr&gt;</th><th scope=col>&lt;chr&gt;</th></tr>\n",
       "</thead>\n",
       "<tbody>\n",
       "\t<tr><td>1-Jan-17</td><td>8 cm</td><td>8 cm </td><td>0 cm</td></tr>\n",
       "\t<tr><td>6-Jan-17</td><td>1 cm</td><td>9 cm </td><td>0 cm</td></tr>\n",
       "\t<tr><td>7-Jan-17</td><td>4 cm</td><td>13 cm</td><td>0 cm</td></tr>\n",
       "\t<tr><td>⋮</td><td>⋮</td><td>⋮</td><td>⋮</td></tr>\n",
       "\t<tr><td>21-Dec-09</td><td>20 cm</td><td>836 cm</td><td>241 cm</td></tr>\n",
       "\t<tr><td>22-Dec-09</td><td>18 cm</td><td>854 cm</td><td>251 cm</td></tr>\n",
       "\t<tr><td>30-Dec-09</td><td>3 cm </td><td>857 cm</td><td>216 cm</td></tr>\n",
       "</tbody>\n",
       "</table>\n"
      ],
      "text/latex": [
       "A spec\\_tbl\\_df: 671 × 4\n",
       "\\begin{tabular}{llll}\n",
       " Date & 24 hr New Snow & Season Snowfall Total & Base Depth\\\\\n",
       " <chr> & <chr> & <chr> & <chr>\\\\\n",
       "\\hline\n",
       "\t 1-Jan-17 & 8 cm & 8 cm  & 0 cm\\\\\n",
       "\t 6-Jan-17 & 1 cm & 9 cm  & 0 cm\\\\\n",
       "\t 7-Jan-17 & 4 cm & 13 cm & 0 cm\\\\\n",
       "\t ⋮ & ⋮ & ⋮ & ⋮\\\\\n",
       "\t 21-Dec-09 & 20 cm & 836 cm & 241 cm\\\\\n",
       "\t 22-Dec-09 & 18 cm & 854 cm & 251 cm\\\\\n",
       "\t 30-Dec-09 & 3 cm  & 857 cm & 216 cm\\\\\n",
       "\\end{tabular}\n"
      ],
      "text/markdown": [
       "\n",
       "A spec_tbl_df: 671 × 4\n",
       "\n",
       "| Date &lt;chr&gt; | 24 hr New Snow &lt;chr&gt; | Season Snowfall Total &lt;chr&gt; | Base Depth &lt;chr&gt; |\n",
       "|---|---|---|---|\n",
       "| 1-Jan-17 | 8 cm | 8 cm  | 0 cm |\n",
       "| 6-Jan-17 | 1 cm | 9 cm  | 0 cm |\n",
       "| 7-Jan-17 | 4 cm | 13 cm | 0 cm |\n",
       "| ⋮ | ⋮ | ⋮ | ⋮ |\n",
       "| 21-Dec-09 | 20 cm | 836 cm | 241 cm |\n",
       "| 22-Dec-09 | 18 cm | 854 cm | 251 cm |\n",
       "| 30-Dec-09 | 3 cm  | 857 cm | 216 cm |\n",
       "\n"
      ],
      "text/plain": [
       "    Date      24 hr New Snow Season Snowfall Total Base Depth\n",
       "1   1-Jan-17  8 cm           8 cm                  0 cm      \n",
       "2   6-Jan-17  1 cm           9 cm                  0 cm      \n",
       "3   7-Jan-17  4 cm           13 cm                 0 cm      \n",
       "⋮   ⋮         ⋮              ⋮                     ⋮         \n",
       "669 21-Dec-09 20 cm          836 cm                241 cm    \n",
       "670 22-Dec-09 18 cm          854 cm                251 cm    \n",
       "671 30-Dec-09 3 cm           857 cm                216 cm    "
      ]
     },
     "metadata": {},
     "output_type": "display_data"
    }
   ],
   "source": [
    "reader <- read_csv(\"DATA/Whistler Blackcomb - BC Canada.csv\")\n",
    "reader"
   ]
  },
  {
   "cell_type": "code",
   "execution_count": null,
   "id": "d775c196-00bc-440e-916b-fb9742f88295",
   "metadata": {},
   "outputs": [],
   "source": []
  },
  {
   "cell_type": "markdown",
   "id": "a49e7e12-92d1-49f8-83e2-30089177f092",
   "metadata": {},
   "source": [
    "## Methods"
   ]
  },
  {
   "cell_type": "code",
   "execution_count": null,
   "id": "a2f6e700-2b70-4735-83cc-c26b47f979b7",
   "metadata": {},
   "outputs": [],
   "source": []
  },
  {
   "cell_type": "code",
   "execution_count": null,
   "id": "419c2f8a-7c91-4fa1-86ec-6d91ea45f2cf",
   "metadata": {},
   "outputs": [],
   "source": []
  },
  {
   "cell_type": "code",
   "execution_count": null,
   "id": "f06604df-528e-4195-a54e-3bc6aec54375",
   "metadata": {},
   "outputs": [],
   "source": []
  },
  {
   "cell_type": "markdown",
   "id": "9bd4f537-11b3-4c46-b715-0de0933a9c52",
   "metadata": {},
   "source": [
    "## Expected outcomes and significance"
   ]
  },
  {
   "cell_type": "code",
   "execution_count": null,
   "id": "df1c029f-fe30-4f37-bf01-52cfeea74afb",
   "metadata": {},
   "outputs": [],
   "source": []
  },
  {
   "cell_type": "code",
   "execution_count": null,
   "id": "f0a8de1d-c8c6-49a7-a6d5-b71f0c26fa41",
   "metadata": {},
   "outputs": [],
   "source": []
  },
  {
   "cell_type": "code",
   "execution_count": null,
   "id": "96978bb2-55c5-48c0-807c-f56a7a4a7e97",
   "metadata": {},
   "outputs": [],
   "source": []
  }
 ],
 "metadata": {
  "kernelspec": {
   "display_name": "R",
   "language": "R",
   "name": "ir"
  },
  "language_info": {
   "codemirror_mode": "r",
   "file_extension": ".r",
   "mimetype": "text/x-r-source",
   "name": "R",
   "pygments_lexer": "r",
   "version": "4.3.1"
  }
 },
 "nbformat": 4,
 "nbformat_minor": 5
}
