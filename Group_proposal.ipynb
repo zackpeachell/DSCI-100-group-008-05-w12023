{
 "cells": [
  {
   "cell_type": "markdown",
   "id": "cac1ad93-3069-4458-b564-24fe43aab184",
   "metadata": {},
   "source": [
    "# Data Science 100 Group 008-05 Project Proposal"
   ]
  },
  {
   "cell_type": "markdown",
   "id": "dd9053c8-454b-46f6-bb55-282791580a9b",
   "metadata": {},
   "source": [
    "#### Zack Peachell, Jasper Palov, Arjun Saxena, Bhavya Dubey"
   ]
  },
  {
   "cell_type": "markdown",
   "id": "14eab56c-ffc0-4abd-b7a2-0c5c06e37adf",
   "metadata": {},
   "source": [
    "\\\n",
    "\\\n",
    "\n",
    "## Introduction to our project: "
   ]
  },
  {
   "cell_type": "code",
   "execution_count": null,
   "id": "4c7d5a49-79c3-4ec2-ab41-d8c95148cbcb",
   "metadata": {},
   "outputs": [],
   "source": []
  },
  {
   "cell_type": "code",
   "execution_count": null,
   "id": "ca2c31e5-6bc3-461b-ad76-dae2f4c3a3d1",
   "metadata": {},
   "outputs": [],
   "source": []
  },
  {
   "cell_type": "code",
   "execution_count": null,
   "id": "834e1538-ae22-47a0-98f5-97554c2966b6",
   "metadata": {},
   "outputs": [],
   "source": []
  },
  {
   "cell_type": "markdown",
   "id": "9bd78db2-5076-46f6-b4b0-e7023dcb6a36",
   "metadata": {},
   "source": [
    "## Preliminary exploratory data analysis:\n",
    "\\\n",
    "from the dataset we have chosen!"
   ]
  },
  {
   "cell_type": "code",
   "execution_count": 1,
   "id": "b284c937-011e-4232-a5b5-5c0133696945",
   "metadata": {},
   "outputs": [
    {
     "name": "stderr",
     "output_type": "stream",
     "text": [
      "── \u001b[1mAttaching core tidyverse packages\u001b[22m ──────────────────────── tidyverse 2.0.0 ──\n",
      "\u001b[32m✔\u001b[39m \u001b[34mdplyr    \u001b[39m 1.1.3     \u001b[32m✔\u001b[39m \u001b[34mreadr    \u001b[39m 2.1.4\n",
      "\u001b[32m✔\u001b[39m \u001b[34mforcats  \u001b[39m 1.0.0     \u001b[32m✔\u001b[39m \u001b[34mstringr  \u001b[39m 1.5.0\n",
      "\u001b[32m✔\u001b[39m \u001b[34mggplot2  \u001b[39m 3.4.3     \u001b[32m✔\u001b[39m \u001b[34mtibble   \u001b[39m 3.2.1\n",
      "\u001b[32m✔\u001b[39m \u001b[34mlubridate\u001b[39m 1.9.2     \u001b[32m✔\u001b[39m \u001b[34mtidyr    \u001b[39m 1.3.0\n",
      "\u001b[32m✔\u001b[39m \u001b[34mpurrr    \u001b[39m 1.0.2     \n",
      "── \u001b[1mConflicts\u001b[22m ────────────────────────────────────────── tidyverse_conflicts() ──\n",
      "\u001b[31m✖\u001b[39m \u001b[34mdplyr\u001b[39m::\u001b[32mfilter()\u001b[39m masks \u001b[34mstats\u001b[39m::filter()\n",
      "\u001b[31m✖\u001b[39m \u001b[34mdplyr\u001b[39m::\u001b[32mlag()\u001b[39m    masks \u001b[34mstats\u001b[39m::lag()\n",
      "\u001b[36mℹ\u001b[39m Use the conflicted package (\u001b[3m\u001b[34m<http://conflicted.r-lib.org/>\u001b[39m\u001b[23m) to force all conflicts to become errors\n",
      "── \u001b[1mAttaching packages\u001b[22m ────────────────────────────────────── tidymodels 1.1.1 ──\n",
      "\n",
      "\u001b[32m✔\u001b[39m \u001b[34mbroom       \u001b[39m 1.0.5     \u001b[32m✔\u001b[39m \u001b[34mrsample     \u001b[39m 1.2.0\n",
      "\u001b[32m✔\u001b[39m \u001b[34mdials       \u001b[39m 1.2.0     \u001b[32m✔\u001b[39m \u001b[34mtune        \u001b[39m 1.1.2\n",
      "\u001b[32m✔\u001b[39m \u001b[34minfer       \u001b[39m 1.0.4     \u001b[32m✔\u001b[39m \u001b[34mworkflows   \u001b[39m 1.1.3\n",
      "\u001b[32m✔\u001b[39m \u001b[34mmodeldata   \u001b[39m 1.2.0     \u001b[32m✔\u001b[39m \u001b[34mworkflowsets\u001b[39m 1.0.1\n",
      "\u001b[32m✔\u001b[39m \u001b[34mparsnip     \u001b[39m 1.1.1     \u001b[32m✔\u001b[39m \u001b[34myardstick   \u001b[39m 1.2.0\n",
      "\u001b[32m✔\u001b[39m \u001b[34mrecipes     \u001b[39m 1.0.8     \n",
      "\n",
      "── \u001b[1mConflicts\u001b[22m ───────────────────────────────────────── tidymodels_conflicts() ──\n",
      "\u001b[31m✖\u001b[39m \u001b[34mscales\u001b[39m::\u001b[32mdiscard()\u001b[39m masks \u001b[34mpurrr\u001b[39m::discard()\n",
      "\u001b[31m✖\u001b[39m \u001b[34mdplyr\u001b[39m::\u001b[32mfilter()\u001b[39m   masks \u001b[34mstats\u001b[39m::filter()\n",
      "\u001b[31m✖\u001b[39m \u001b[34mrecipes\u001b[39m::\u001b[32mfixed()\u001b[39m  masks \u001b[34mstringr\u001b[39m::fixed()\n",
      "\u001b[31m✖\u001b[39m \u001b[34mdplyr\u001b[39m::\u001b[32mlag()\u001b[39m      masks \u001b[34mstats\u001b[39m::lag()\n",
      "\u001b[31m✖\u001b[39m \u001b[34myardstick\u001b[39m::\u001b[32mspec()\u001b[39m masks \u001b[34mreadr\u001b[39m::spec()\n",
      "\u001b[31m✖\u001b[39m \u001b[34mrecipes\u001b[39m::\u001b[32mstep()\u001b[39m   masks \u001b[34mstats\u001b[39m::step()\n",
      "\u001b[34m•\u001b[39m Dig deeper into tidy modeling with R at \u001b[32mhttps://www.tmwr.org\u001b[39m\n",
      "\n",
      "Warning message in file(filename, \"r\", encoding = encoding):\n",
      "“cannot open file 'tests.R': No such file or directory”\n"
     ]
    },
    {
     "ename": "ERROR",
     "evalue": "Error in file(filename, \"r\", encoding = encoding): cannot open the connection\n",
     "output_type": "error",
     "traceback": [
      "Error in file(filename, \"r\", encoding = encoding): cannot open the connection\nTraceback:\n",
      "1. source(\"tests.R\")",
      "2. file(filename, \"r\", encoding = encoding)"
     ]
    }
   ],
   "source": [
    "# Run this cell to continue.\n",
    "library(tidyverse)\n",
    "library(repr)\n",
    "library(tidymodels)\n",
    "options(repr.matrix.max.rows = 6)\n",
    "source('tests.R')\n",
    "source('cleanup.R')"
   ]
  },
  {
   "cell_type": "code",
   "execution_count": 40,
   "id": "d775c196-00bc-440e-916b-fb9742f88295",
   "metadata": {},
   "outputs": [
    {
     "name": "stderr",
     "output_type": "stream",
     "text": [
      "\u001b[1mRows: \u001b[22m\u001b[34m240\u001b[39m \u001b[1mColumns: \u001b[22m\u001b[34m7\u001b[39m\n",
      "\u001b[36m──\u001b[39m \u001b[1mColumn specification\u001b[22m \u001b[36m────────────────────────────────────────────────────────\u001b[39m\n",
      "\u001b[1mDelimiter:\u001b[22m \",\"\n",
      "\u001b[31mchr\u001b[39m (2): Star color, Spectral Class\n",
      "\u001b[32mdbl\u001b[39m (5): Temperature (K), Luminosity(L/Lo), Radius(R/Ro), Absolute magnitude...\n",
      "\n",
      "\u001b[36mℹ\u001b[39m Use `spec()` to retrieve the full column specification for this data.\n",
      "\u001b[36mℹ\u001b[39m Specify the column types or set `show_col_types = FALSE` to quiet this message.\n"
     ]
    },
    {
     "data": {
      "text/html": [
       "<table class=\"dataframe\">\n",
       "<caption>A spec_tbl_df: 240 × 7</caption>\n",
       "<thead>\n",
       "\t<tr><th scope=col>Temperature_(K)</th><th scope=col>Luminosity(L/Lo)</th><th scope=col>Radius(R/Ro)</th><th scope=col>Absolute magnitude(Mv)</th><th scope=col>Star_type</th><th scope=col>Star_color</th><th scope=col>Spectral_Class</th></tr>\n",
       "\t<tr><th scope=col>&lt;dbl&gt;</th><th scope=col>&lt;dbl&gt;</th><th scope=col>&lt;dbl&gt;</th><th scope=col>&lt;dbl&gt;</th><th scope=col>&lt;dbl&gt;</th><th scope=col>&lt;chr&gt;</th><th scope=col>&lt;chr&gt;</th></tr>\n",
       "</thead>\n",
       "<tbody>\n",
       "\t<tr><td>3068</td><td>0.0024</td><td>0.1700</td><td>16.12</td><td>0</td><td>Red</td><td>M</td></tr>\n",
       "\t<tr><td>3042</td><td>0.0005</td><td>0.1542</td><td>16.60</td><td>0</td><td>Red</td><td>M</td></tr>\n",
       "\t<tr><td>2600</td><td>0.0003</td><td>0.1020</td><td>18.70</td><td>0</td><td>Red</td><td>M</td></tr>\n",
       "\t<tr><td>⋮</td><td>⋮</td><td>⋮</td><td>⋮</td><td>⋮</td><td>⋮</td><td>⋮</td></tr>\n",
       "\t<tr><td> 8829</td><td>537493</td><td>1423</td><td>-10.73</td><td>5</td><td>White</td><td>A</td></tr>\n",
       "\t<tr><td> 9235</td><td>404940</td><td>1112</td><td>-11.23</td><td>5</td><td>White</td><td>A</td></tr>\n",
       "\t<tr><td>37882</td><td>294903</td><td>1783</td><td> -7.80</td><td>5</td><td>Blue </td><td>O</td></tr>\n",
       "</tbody>\n",
       "</table>\n"
      ],
      "text/latex": [
       "A spec\\_tbl\\_df: 240 × 7\n",
       "\\begin{tabular}{lllllll}\n",
       " Temperature\\_(K) & Luminosity(L/Lo) & Radius(R/Ro) & Absolute magnitude(Mv) & Star\\_type & Star\\_color & Spectral\\_Class\\\\\n",
       " <dbl> & <dbl> & <dbl> & <dbl> & <dbl> & <chr> & <chr>\\\\\n",
       "\\hline\n",
       "\t 3068 & 0.0024 & 0.1700 & 16.12 & 0 & Red & M\\\\\n",
       "\t 3042 & 0.0005 & 0.1542 & 16.60 & 0 & Red & M\\\\\n",
       "\t 2600 & 0.0003 & 0.1020 & 18.70 & 0 & Red & M\\\\\n",
       "\t ⋮ & ⋮ & ⋮ & ⋮ & ⋮ & ⋮ & ⋮\\\\\n",
       "\t  8829 & 537493 & 1423 & -10.73 & 5 & White & A\\\\\n",
       "\t  9235 & 404940 & 1112 & -11.23 & 5 & White & A\\\\\n",
       "\t 37882 & 294903 & 1783 &  -7.80 & 5 & Blue  & O\\\\\n",
       "\\end{tabular}\n"
      ],
      "text/markdown": [
       "\n",
       "A spec_tbl_df: 240 × 7\n",
       "\n",
       "| Temperature_(K) &lt;dbl&gt; | Luminosity(L/Lo) &lt;dbl&gt; | Radius(R/Ro) &lt;dbl&gt; | Absolute magnitude(Mv) &lt;dbl&gt; | Star_type &lt;dbl&gt; | Star_color &lt;chr&gt; | Spectral_Class &lt;chr&gt; |\n",
       "|---|---|---|---|---|---|---|\n",
       "| 3068 | 0.0024 | 0.1700 | 16.12 | 0 | Red | M |\n",
       "| 3042 | 0.0005 | 0.1542 | 16.60 | 0 | Red | M |\n",
       "| 2600 | 0.0003 | 0.1020 | 18.70 | 0 | Red | M |\n",
       "| ⋮ | ⋮ | ⋮ | ⋮ | ⋮ | ⋮ | ⋮ |\n",
       "|  8829 | 537493 | 1423 | -10.73 | 5 | White | A |\n",
       "|  9235 | 404940 | 1112 | -11.23 | 5 | White | A |\n",
       "| 37882 | 294903 | 1783 |  -7.80 | 5 | Blue  | O |\n",
       "\n"
      ],
      "text/plain": [
       "    Temperature_(K) Luminosity(L/Lo) Radius(R/Ro) Absolute magnitude(Mv)\n",
       "1   3068            0.0024           0.1700       16.12                 \n",
       "2   3042            0.0005           0.1542       16.60                 \n",
       "3   2600            0.0003           0.1020       18.70                 \n",
       "⋮   ⋮               ⋮                ⋮            ⋮                     \n",
       "238  8829           537493           1423         -10.73                \n",
       "239  9235           404940           1112         -11.23                \n",
       "240 37882           294903           1783          -7.80                \n",
       "    Star_type Star_color Spectral_Class\n",
       "1   0         Red        M             \n",
       "2   0         Red        M             \n",
       "3   0         Red        M             \n",
       "⋮   ⋮         ⋮          ⋮             \n",
       "238 5         White      A             \n",
       "239 5         White      A             \n",
       "240 5         Blue       O             "
      ]
     },
     "metadata": {},
     "output_type": "display_data"
    }
   ],
   "source": [
    "read_star <- read_csv(\"DATA/6 class csv.csv\")\n",
    "#these columns need renames\n",
    "\n",
    "name_star <- read_star|>\n",
    "                rename(\"Star_type\" = \"Star type\")|>\n",
    "                rename(\"Temperature_(K)\" = \"Temperature (K)\")|>\n",
    "                rename(\"Star_color\" = \"Star color\")|>\n",
    "                rename(\"Spectral_Class\" = \"Spectral Class\")\n",
    "name_star\n"
   ]
  },
  {
   "cell_type": "markdown",
   "id": "26f32ec9-6190-44ae-b906-8ef978d15400",
   "metadata": {},
   "source": [
    "We can see that this data is very tidy as it follows the criteria for tidy data, no overlapping variables, a single observtaion per cell, and most importantly is easily readable. The only item we had to address was renaming the columns as were spaces between words making it  Now, we should attempt to see how many of each spectral class we have, to see how many of each star we have. Ended tuesday dsci stuff here!"
   ]
  },
  {
   "cell_type": "code",
   "execution_count": 43,
   "id": "90691b3c-f4d7-462d-8c6f-7737a7339b92",
   "metadata": {},
   "outputs": [
    {
     "data": {
      "text/html": [
       "<table class=\"dataframe\">\n",
       "<caption>A tibble: 7 × 2</caption>\n",
       "<thead>\n",
       "\t<tr><th scope=col>Spectral_Class</th><th scope=col>count</th></tr>\n",
       "\t<tr><th scope=col>&lt;chr&gt;</th><th scope=col>&lt;int&gt;</th></tr>\n",
       "</thead>\n",
       "<tbody>\n",
       "\t<tr><td>A</td><td>19</td></tr>\n",
       "\t<tr><td>B</td><td>46</td></tr>\n",
       "\t<tr><td>F</td><td>17</td></tr>\n",
       "\t<tr><td>⋮</td><td>⋮</td></tr>\n",
       "\t<tr><td>K</td><td>  6</td></tr>\n",
       "\t<tr><td>M</td><td>111</td></tr>\n",
       "\t<tr><td>O</td><td> 40</td></tr>\n",
       "</tbody>\n",
       "</table>\n"
      ],
      "text/latex": [
       "A tibble: 7 × 2\n",
       "\\begin{tabular}{ll}\n",
       " Spectral\\_Class & count\\\\\n",
       " <chr> & <int>\\\\\n",
       "\\hline\n",
       "\t A & 19\\\\\n",
       "\t B & 46\\\\\n",
       "\t F & 17\\\\\n",
       "\t ⋮ & ⋮\\\\\n",
       "\t K &   6\\\\\n",
       "\t M & 111\\\\\n",
       "\t O &  40\\\\\n",
       "\\end{tabular}\n"
      ],
      "text/markdown": [
       "\n",
       "A tibble: 7 × 2\n",
       "\n",
       "| Spectral_Class &lt;chr&gt; | count &lt;int&gt; |\n",
       "|---|---|\n",
       "| A | 19 |\n",
       "| B | 46 |\n",
       "| F | 17 |\n",
       "| ⋮ | ⋮ |\n",
       "| K |   6 |\n",
       "| M | 111 |\n",
       "| O |  40 |\n",
       "\n"
      ],
      "text/plain": [
       "  Spectral_Class count\n",
       "1 A              19   \n",
       "2 B              46   \n",
       "3 F              17   \n",
       "⋮ ⋮              ⋮    \n",
       "5 K                6  \n",
       "6 M              111  \n",
       "7 O               40  "
      ]
     },
     "metadata": {},
     "output_type": "display_data"
    }
   ],
   "source": [
    "star_counted <- name_star|>\n",
    "                group_by(Spectral_Class)|>\n",
    "                summarize(count = n())\n",
    "star_counted"
   ]
  },
  {
   "cell_type": "markdown",
   "id": "a49e7e12-92d1-49f8-83e2-30089177f092",
   "metadata": {},
   "source": [
    "## Methods"
   ]
  },
  {
   "cell_type": "code",
   "execution_count": null,
   "id": "a2f6e700-2b70-4735-83cc-c26b47f979b7",
   "metadata": {},
   "outputs": [],
   "source": []
  },
  {
   "cell_type": "code",
   "execution_count": null,
   "id": "419c2f8a-7c91-4fa1-86ec-6d91ea45f2cf",
   "metadata": {},
   "outputs": [],
   "source": []
  },
  {
   "cell_type": "code",
   "execution_count": null,
   "id": "f06604df-528e-4195-a54e-3bc6aec54375",
   "metadata": {},
   "outputs": [],
   "source": []
  },
  {
   "cell_type": "markdown",
   "id": "9bd4f537-11b3-4c46-b715-0de0933a9c52",
   "metadata": {},
   "source": [
    "## Expected outcomes and significance"
   ]
  },
  {
   "cell_type": "code",
   "execution_count": null,
   "id": "df1c029f-fe30-4f37-bf01-52cfeea74afb",
   "metadata": {},
   "outputs": [],
   "source": []
  },
  {
   "cell_type": "code",
   "execution_count": null,
   "id": "f0a8de1d-c8c6-49a7-a6d5-b71f0c26fa41",
   "metadata": {},
   "outputs": [],
   "source": []
  },
  {
   "cell_type": "code",
   "execution_count": null,
   "id": "96978bb2-55c5-48c0-807c-f56a7a4a7e97",
   "metadata": {},
   "outputs": [],
   "source": []
  }
 ],
 "metadata": {
  "kernelspec": {
   "display_name": "R",
   "language": "R",
   "name": "ir"
  },
  "language_info": {
   "codemirror_mode": "r",
   "file_extension": ".r",
   "mimetype": "text/x-r-source",
   "name": "R",
   "pygments_lexer": "r",
   "version": "4.3.1"
  }
 },
 "nbformat": 4,
 "nbformat_minor": 5
}
